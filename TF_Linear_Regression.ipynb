{
 "cells": [
  {
   "cell_type": "code",
   "execution_count": 4,
   "metadata": {},
   "outputs": [],
   "source": [
    "import tensorflow as tf\n",
    "import pandas\n",
    "dataset=pandas.read_csv('dataset.csv')\n",
    "setx=dataset.values[:,0]\n",
    "sety=dataset.values[:,1]"
   ]
  },
  {
   "cell_type": "markdown",
   "metadata": {},
   "source": [
    "## Linear Regression ![op graph](imgs/3.jpg)"
   ]
  },
  {
   "cell_type": "code",
   "execution_count": 6,
   "metadata": {
    "collapsed": true
   },
   "outputs": [],
   "source": [
    "# Graph inputs\n",
    "X = tf.placeholder(\"float\")\n",
    "Y = tf.placeholder(\"float\")\n",
    "\n",
    "# model weights\n",
    "m = tf.Variable(tf.random_normal([1]), name=\"weight\")\n",
    "c = tf.Variable(tf.random_normal([1]), name=\"bias\")\n",
    "\n",
    "# a linear model\n",
    "prediction = tf.add(tf.multiply(X, m), c)\n",
    "\n",
    "# Mean squared error\n",
    "cost = tf.reduce_sum(tf.pow(prediction-Y, 2))\n",
    "\n",
    "# use an optimizer to update the variables.\n",
    "optimizer = tf.train.AdamOptimizer().minimize(cost)\n",
    "\n",
    "# Add an op to initialize the variables.\n",
    "init_op = tf.global_variables_initializer()"
   ]
  },
  {
   "cell_type": "code",
   "execution_count": 7,
   "metadata": {},
   "outputs": [
    {
     "name": "stdout",
     "output_type": "stream",
     "text": [
      "Epoch: 0 cost= 1922.381103516 m= [0.6315935] c= [-0.46747127]\n",
      "Epoch: 10 cost= 812.774353027 m= [0.77409995] c= [-0.3002135]\n",
      "Epoch: 20 cost= 290.244689941 m= [0.8809296] c= [-0.17198358]\n",
      "Epoch: 30 cost= 84.491546631 m= [0.95463246] c= [-0.08032013]\n",
      "Epoch: 40 cost= 21.633344650 m= [0.9990251] c= [-0.0204734]\n",
      "Epoch: 50 cost= 7.294787407 m= [1.0216925] c= [0.01646387]\n",
      "Epoch: 60 cost= 4.840254784 m= [1.0312233] c= [0.04034487]\n",
      "Epoch: 70 cost= 4.432671547 m= [1.0342956] c= [0.05874472]\n",
      "Epoch: 80 cost= 4.260764599 m= [1.034761] c= [0.07602065]\n",
      "Epoch: 90 cost= 4.096615314 m= [1.0343411] c= [0.09412882]\n",
      "Optimization Finished!\n"
     ]
    }
   ],
   "source": [
    "# Start training\n",
    "with tf.Session() as sess:\n",
    "    sess.run(init_op)\n",
    "    # Fit all training data\n",
    "    for epoch in range(100):\n",
    "        for (x, y) in zip(setx, sety):\n",
    "            sess.run(optimizer, feed_dict={X: x, Y: y})\n",
    "        # Display summaries every 10 epochs\n",
    "        if epoch % 10 ==0:\n",
    "            err = sess.run(cost, feed_dict={X: setx, Y:sety})\n",
    "            print \"Epoch:\", epoch, \"cost=\", \"{:.9f}\".format(err), \"m=\", sess.run(m), \"c=\", sess.run(c)\n",
    "    trained_m=sess.run(m)\n",
    "    trained_c=sess.run(c)\n",
    "    print \"Optimization Finished!\"\n"
   ]
  },
  {
   "cell_type": "code",
   "execution_count": 8,
   "metadata": {},
   "outputs": [
    {
     "data": {
      "image/png": "[encoded data removed]",
      "text/plain": [
       "<matplotlib.figure.Figure at 0x7f7cd0164350>"
      ]
     },
     "metadata": {},
     "output_type": "display_data"
    }
   ],
   "source": [
    "import matplotlib.pyplot as plt\n",
    "plt.plot(setx, trained_m * setx + trained_c, label='Fitted line')\n",
    "plt.plot(setx, sety, 'ro', label='Data')\n",
    "plt.legend()\n",
    "plt.show()"
   ]
  },
  {
   "cell_type": "code",
   "execution_count": 9,
   "metadata": {},
   "outputs": [
    {
     "name": "stdout",
     "output_type": "stream",
     "text": [
      "_________________________________________________________________\n",
      "Layer (type)                 Output Shape              Param #   \n",
      "=================================================================\n",
      "dense_1 (Dense)              (None, 1)                 2         \n",
      "=================================================================\n",
      "Total params: 2\n",
      "Trainable params: 2\n",
      "Non-trainable params: 0\n",
      "_________________________________________________________________\n",
      "None\n"
     ]
    }
   ],
   "source": [
    "from tensorflow.contrib.keras import models\n",
    "from tensorflow.contrib.keras import layers\n",
    "from tensorflow.contrib import keras\n",
    "\n",
    "model = models.Sequential([layers.Dense(1, input_shape=(1,))])\n",
    "# Use Adam optimizier and Mean Squared Error (MSE) as loss function\n",
    "model.compile(optimizer=keras.optimizers.Adamax(0.1), loss='mse') \n",
    "print model.summary() "
   ]
  },
  {
   "cell_type": "code",
   "execution_count": 10,
   "metadata": {},
   "outputs": [
    {
     "data": {
      "text/plain": [
       "[10.297786493628518,\n",
       " 0.146512064820854,\n",
       " 0.03492947090708185,\n",
       " 0.005311858958339144,\n",
       " 0.0006630804502492538,\n",
       " 3.878759489452932e-05,\n",
       " 1.1602592508097588e-06,\n",
       " 1.6957626058911047e-08,\n",
       " 1.0233236480416963e-10,\n",
       " 0.0]"
      ]
     },
     "execution_count": 10,
     "metadata": {},
     "output_type": "execute_result"
    }
   ],
   "source": [
    "traininglog=model.fit(setx, sety, epochs=100, batch_size=1,verbose=0)\n",
    "traininglog.history['loss'][::10] # print every 10 epochs"
   ]
  },
  {
   "cell_type": "code",
   "execution_count": 11,
   "metadata": {},
   "outputs": [
    {
     "data": {
      "image/png": "[encoded data removed]",
      "text/plain": [
       "<matplotlib.figure.Figure at 0x7f7c84d12ad0>"
      ]
     },
     "metadata": {},
     "output_type": "display_data"
    }
   ],
   "source": [
    "trained_m = model.get_weights()[0][0][0]\n",
    "trained_c = model.get_weights()[1][0] \n",
    "import matplotlib.pyplot as plt\n",
    "plt.plot(setx, trained_m * setx + trained_c, label='Fitted line')\n",
    "plt.plot(setx, sety, 'ro', label='Data')\n",
    "plt.legend()\n",
    "plt.show()"
   ]
  },
  {
   "cell_type": "code",
   "execution_count": null,
   "metadata": {
    "collapsed": true
   },
   "outputs": [],
   "source": []
  }
 ],
 "metadata": {
  "kernelspec": {
   "display_name": "Python 2",
   "language": "python",
   "name": "python2"
  },
  "language_info": {
   "codemirror_mode": {
    "name": "ipython",
    "version": 2
   },
   "file_extension": ".py",
   "mimetype": "text/x-python",
   "name": "python",
   "nbconvert_exporter": "python",
   "pygments_lexer": "ipython2",
   "version": "2.7.14"
  }
 },
 "nbformat": 4,
 "nbformat_minor": 2
}
